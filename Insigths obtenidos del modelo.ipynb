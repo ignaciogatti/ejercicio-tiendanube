{
 "cells": [
  {
   "cell_type": "markdown",
   "metadata": {},
   "source": [
    "# Insights obtenidos del modelo\n",
    "\n",
    "Esta notebook contiene un análisis de las *features* aprendidas por el modelo, con el fin de extraer *insights* que puedan ser de utilidad para el negocio"
   ]
  },
  {
   "cell_type": "code",
   "execution_count": null,
   "metadata": {},
   "outputs": [],
   "source": [
    "import pandas as pd\n",
    "import numpy as np\n",
    "from sklearn.model_selection import train_test_split\n",
    "from sklearn.ensemble import RandomForestClassifier, AdaBoostClassifier\n",
    "import matplotlib.pyplot as plt\n",
    "import seaborn as sns\n",
    "import xgboost as xgb"
   ]
  },
  {
   "cell_type": "markdown",
   "metadata": {},
   "source": [
    "## Lectura de datos"
   ]
  },
  {
   "cell_type": "code",
   "execution_count": null,
   "metadata": {},
   "outputs": [],
   "source": [
    "df_data = pd.read_csv('dataset_balanceado.csv')\n",
    "df_data.head()"
   ]
  },
  {
   "cell_type": "markdown",
   "metadata": {},
   "source": [
    "## Dataset entrenamiento y test\n",
    "\n",
    "A continuación se define una función que divide el dataset en dos: uno para entrenamiento del modelo y otro para la evaluación del mismo"
   ]
  },
  {
   "cell_type": "code",
   "execution_count": null,
   "metadata": {},
   "outputs": [],
   "source": [
    "y = df_data['target']\n",
    "X = df_data.drop(columns=['target'])\n",
    "X_train, X_test, y_train, y_test = train_test_split(X, y, test_size=.3)"
   ]
  },
  {
   "cell_type": "markdown",
   "metadata": {},
   "source": [
    "## Definición y entrenamiento del modelo\n",
    "\n",
    "Se entrena un clasificador *AdaBoost*, que fue aquel que tuvo mejor rendimiento"
   ]
  },
  {
   "cell_type": "code",
   "execution_count": null,
   "metadata": {},
   "outputs": [],
   "source": [
    "clf = AdaBoostClassifier()\n",
    "clf.fit(X_train, y_train)"
   ]
  },
  {
   "cell_type": "markdown",
   "metadata": {},
   "source": [
    "## Análisis de los features utilizados por el modelo\n",
    "\n",
    "Para poder obtener *insights* que puedan ser de utilidad para el negocio se analizan la importancia que el modelo le asigna a cada uno de los *features* "
   ]
  },
  {
   "cell_type": "code",
   "execution_count": null,
   "metadata": {},
   "outputs": [],
   "source": [
    "feature_importance = clf.feature_importances_\n",
    "features_importance_serie = pd.Series(data=feature_importance, index=X.columns)"
   ]
  },
  {
   "cell_type": "markdown",
   "metadata": {},
   "source": [
    "Primero se descartan aquellas *features* cuya prioridad es igual a 0.0; es decir aquellas que el modelo ignora porque no le aportan ningún tipo de valor. \n",
    "\n",
    "Es importante tener en cuenta estas *features* a la hora de optimizar el modelo, porque son *features* que es preferible descartar ya que pueden introducir ruido en el modelo."
   ]
  },
  {
   "cell_type": "code",
   "execution_count": null,
   "metadata": {},
   "outputs": [],
   "source": [
    "features_importance_serie[features_importance_serie == 0]"
   ]
  },
  {
   "cell_type": "markdown",
   "metadata": {},
   "source": [
    "Luego se analizan la prioridad que el modelo le asignó a cada una de las *features*.\n",
    "\n",
    "Aquí se puede observar la importancia que tiene la *feature* **total_events_on_Web** que describe la cantidad de eventos que tuvo el *trial* por una computadora. Esta es la variable que más influye a la hora de tomar la decisión por parte del modelo (alrededor del 40%).\n",
    "\n",
    "Asimismo, se puede observar que hay un grupo de *features* que están en segundo orden de importancia para el modelo. Dentro de este grupo se encuentran las *features*:\n",
    "* **total_products_with_images**, que describe la cantidad de productos que poseen imagen, con un coeficiente de influencia que ronda 10%;\n",
    "* **creation_platform**, que describe la plataforma por la cual se creó la tienda, con un coeficiente cercano al 5%. Específicamente, se observa que la categoría *desktop* posee una mayor preponderancia respecto de los otros dispositivos.\n",
    "* **source_pulido**, que describe el origen de la tienda por campaña de marketing, con un coeficiente cercano también al 5%. Específicamente, se observa que la categoría *Facebook CPC* posee una mayor preponderancia respecto de las otras tiendas campañas."
   ]
  },
  {
   "cell_type": "code",
   "execution_count": null,
   "metadata": {},
   "outputs": [],
   "source": [
    "features_importance_serie = features_importance_serie[features_importance_serie > 0]\n",
    "\n",
    "plt.figure(figsize=(15, 12))\n",
    "\n",
    "ax = sns.barplot(x=features_importance_serie.index, y=features_importance_serie)\n",
    "\n",
    "ax.set_ylabel('feature importance', fontsize=25)\n",
    "ax.set_xticklabels(features_importance_serie.index, rotation=80, fontsize=14)"
   ]
  }
 ],
 "metadata": {
  "kernelspec": {
   "display_name": "Python 3",
   "language": "python",
   "name": "python3"
  },
  "language_info": {
   "codemirror_mode": {
    "name": "ipython",
    "version": 3
   },
   "file_extension": ".py",
   "mimetype": "text/x-python",
   "name": "python",
   "nbconvert_exporter": "python",
   "pygments_lexer": "ipython3",
   "version": "3.5.2"
  }
 },
 "nbformat": 4,
 "nbformat_minor": 2
}
