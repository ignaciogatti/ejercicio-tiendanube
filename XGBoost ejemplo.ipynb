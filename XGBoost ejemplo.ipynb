{
 "cells": [
  {
   "cell_type": "markdown",
   "metadata": {},
   "source": [
    "# Ejemplo del ejercicio utilizando XGBoost\n",
    "\n",
    "Esta notebook contiene un análisis de las *features* aprendidas por el modelo, con el fin de extraer *insights* que puedan ser de utilidad para el negocio"
   ]
  },
  {
   "cell_type": "code",
   "execution_count": 15,
   "metadata": {},
   "outputs": [],
   "source": [
    "import pandas as pd\n",
    "import numpy as np\n",
    "from sklearn.model_selection import train_test_split\n",
    "from sklearn.ensemble import RandomForestClassifier, AdaBoostClassifier\n",
    "from sklearn.model_selection import GridSearchCV\n",
    "from sklearn.metrics import f1_score\n",
    "import matplotlib.pyplot as plt\n",
    "import seaborn as sns\n",
    "import xgboost as xgb\n",
    "import graphviz\n",
    "import shap\n",
    "from hyperopt import STATUS_OK, Trials, fmin, hp, tpe"
   ]
  },
  {
   "cell_type": "markdown",
   "metadata": {},
   "source": [
    "## Lectura de datos"
   ]
  },
  {
   "cell_type": "code",
   "execution_count": 2,
   "metadata": {},
   "outputs": [
    {
     "data": {
      "text/html": [
       "<div>\n",
       "<style scoped>\n",
       "    .dataframe tbody tr th:only-of-type {\n",
       "        vertical-align: middle;\n",
       "    }\n",
       "\n",
       "    .dataframe tbody tr th {\n",
       "        vertical-align: top;\n",
       "    }\n",
       "\n",
       "    .dataframe thead th {\n",
       "        text-align: right;\n",
       "    }\n",
       "</style>\n",
       "<table border=\"1\" class=\"dataframe\">\n",
       "  <thead>\n",
       "    <tr style=\"text-align: right;\">\n",
       "      <th></th>\n",
       "      <th>admin_visits</th>\n",
       "      <th>intercom_conversations</th>\n",
       "      <th>products_with_description</th>\n",
       "      <th>total_products_with_images</th>\n",
       "      <th>total_product_categories</th>\n",
       "      <th>total_events_on_Android</th>\n",
       "      <th>total_events_on_Web</th>\n",
       "      <th>total_events_on_iOS</th>\n",
       "      <th>country_AR</th>\n",
       "      <th>country_BR</th>\n",
       "      <th>...</th>\n",
       "      <th>source_pulido_none</th>\n",
       "      <th>source_pulido_partners</th>\n",
       "      <th>creation_weekday_0</th>\n",
       "      <th>creation_weekday_1</th>\n",
       "      <th>creation_weekday_2</th>\n",
       "      <th>creation_weekday_3</th>\n",
       "      <th>creation_weekday_4</th>\n",
       "      <th>creation_weekday_5</th>\n",
       "      <th>creation_weekday_6</th>\n",
       "      <th>target</th>\n",
       "    </tr>\n",
       "  </thead>\n",
       "  <tbody>\n",
       "    <tr>\n",
       "      <th>0</th>\n",
       "      <td>0.045455</td>\n",
       "      <td>0.0</td>\n",
       "      <td>0.000000</td>\n",
       "      <td>0.000000</td>\n",
       "      <td>0.0</td>\n",
       "      <td>0.000000</td>\n",
       "      <td>0.001096</td>\n",
       "      <td>0.0</td>\n",
       "      <td>0</td>\n",
       "      <td>1</td>\n",
       "      <td>...</td>\n",
       "      <td>0</td>\n",
       "      <td>0</td>\n",
       "      <td>0</td>\n",
       "      <td>0</td>\n",
       "      <td>0</td>\n",
       "      <td>0</td>\n",
       "      <td>0</td>\n",
       "      <td>0</td>\n",
       "      <td>1</td>\n",
       "      <td>0</td>\n",
       "    </tr>\n",
       "    <tr>\n",
       "      <th>1</th>\n",
       "      <td>0.045455</td>\n",
       "      <td>0.0</td>\n",
       "      <td>0.000000</td>\n",
       "      <td>0.000000</td>\n",
       "      <td>0.0</td>\n",
       "      <td>0.000000</td>\n",
       "      <td>0.001576</td>\n",
       "      <td>0.0</td>\n",
       "      <td>1</td>\n",
       "      <td>0</td>\n",
       "      <td>...</td>\n",
       "      <td>0</td>\n",
       "      <td>0</td>\n",
       "      <td>0</td>\n",
       "      <td>0</td>\n",
       "      <td>0</td>\n",
       "      <td>0</td>\n",
       "      <td>0</td>\n",
       "      <td>0</td>\n",
       "      <td>1</td>\n",
       "      <td>0</td>\n",
       "    </tr>\n",
       "    <tr>\n",
       "      <th>2</th>\n",
       "      <td>0.045455</td>\n",
       "      <td>0.0</td>\n",
       "      <td>0.000035</td>\n",
       "      <td>0.000035</td>\n",
       "      <td>0.0</td>\n",
       "      <td>0.000000</td>\n",
       "      <td>0.001713</td>\n",
       "      <td>0.0</td>\n",
       "      <td>0</td>\n",
       "      <td>1</td>\n",
       "      <td>...</td>\n",
       "      <td>0</td>\n",
       "      <td>0</td>\n",
       "      <td>0</td>\n",
       "      <td>0</td>\n",
       "      <td>0</td>\n",
       "      <td>0</td>\n",
       "      <td>0</td>\n",
       "      <td>0</td>\n",
       "      <td>1</td>\n",
       "      <td>0</td>\n",
       "    </tr>\n",
       "    <tr>\n",
       "      <th>3</th>\n",
       "      <td>0.045455</td>\n",
       "      <td>0.0</td>\n",
       "      <td>0.000035</td>\n",
       "      <td>0.000035</td>\n",
       "      <td>0.0</td>\n",
       "      <td>0.000000</td>\n",
       "      <td>0.004522</td>\n",
       "      <td>0.0</td>\n",
       "      <td>0</td>\n",
       "      <td>1</td>\n",
       "      <td>...</td>\n",
       "      <td>0</td>\n",
       "      <td>0</td>\n",
       "      <td>0</td>\n",
       "      <td>0</td>\n",
       "      <td>0</td>\n",
       "      <td>0</td>\n",
       "      <td>0</td>\n",
       "      <td>0</td>\n",
       "      <td>1</td>\n",
       "      <td>0</td>\n",
       "    </tr>\n",
       "    <tr>\n",
       "      <th>4</th>\n",
       "      <td>0.045455</td>\n",
       "      <td>0.0</td>\n",
       "      <td>0.000000</td>\n",
       "      <td>0.000000</td>\n",
       "      <td>0.0</td>\n",
       "      <td>0.002345</td>\n",
       "      <td>0.000000</td>\n",
       "      <td>0.0</td>\n",
       "      <td>0</td>\n",
       "      <td>1</td>\n",
       "      <td>...</td>\n",
       "      <td>0</td>\n",
       "      <td>0</td>\n",
       "      <td>0</td>\n",
       "      <td>0</td>\n",
       "      <td>0</td>\n",
       "      <td>0</td>\n",
       "      <td>0</td>\n",
       "      <td>0</td>\n",
       "      <td>1</td>\n",
       "      <td>0</td>\n",
       "    </tr>\n",
       "  </tbody>\n",
       "</table>\n",
       "<p>5 rows × 37 columns</p>\n",
       "</div>"
      ],
      "text/plain": [
       "   admin_visits  intercom_conversations  products_with_description  \\\n",
       "0      0.045455                     0.0                   0.000000   \n",
       "1      0.045455                     0.0                   0.000000   \n",
       "2      0.045455                     0.0                   0.000035   \n",
       "3      0.045455                     0.0                   0.000035   \n",
       "4      0.045455                     0.0                   0.000000   \n",
       "\n",
       "   total_products_with_images  total_product_categories  \\\n",
       "0                    0.000000                       0.0   \n",
       "1                    0.000000                       0.0   \n",
       "2                    0.000035                       0.0   \n",
       "3                    0.000035                       0.0   \n",
       "4                    0.000000                       0.0   \n",
       "\n",
       "   total_events_on_Android  total_events_on_Web  total_events_on_iOS  \\\n",
       "0                 0.000000             0.001096                  0.0   \n",
       "1                 0.000000             0.001576                  0.0   \n",
       "2                 0.000000             0.001713                  0.0   \n",
       "3                 0.000000             0.004522                  0.0   \n",
       "4                 0.002345             0.000000                  0.0   \n",
       "\n",
       "   country_AR  country_BR  ...  source_pulido_none  source_pulido_partners  \\\n",
       "0           0           1  ...                   0                       0   \n",
       "1           1           0  ...                   0                       0   \n",
       "2           0           1  ...                   0                       0   \n",
       "3           0           1  ...                   0                       0   \n",
       "4           0           1  ...                   0                       0   \n",
       "\n",
       "   creation_weekday_0  creation_weekday_1  creation_weekday_2  \\\n",
       "0                   0                   0                   0   \n",
       "1                   0                   0                   0   \n",
       "2                   0                   0                   0   \n",
       "3                   0                   0                   0   \n",
       "4                   0                   0                   0   \n",
       "\n",
       "   creation_weekday_3  creation_weekday_4  creation_weekday_5  \\\n",
       "0                   0                   0                   0   \n",
       "1                   0                   0                   0   \n",
       "2                   0                   0                   0   \n",
       "3                   0                   0                   0   \n",
       "4                   0                   0                   0   \n",
       "\n",
       "   creation_weekday_6  target  \n",
       "0                   1       0  \n",
       "1                   1       0  \n",
       "2                   1       0  \n",
       "3                   1       0  \n",
       "4                   1       0  \n",
       "\n",
       "[5 rows x 37 columns]"
      ]
     },
     "execution_count": 2,
     "metadata": {},
     "output_type": "execute_result"
    }
   ],
   "source": [
    "df_data = pd.read_csv('dataset_balanceado.csv')\n",
    "df_data.head()"
   ]
  },
  {
   "cell_type": "code",
   "execution_count": 3,
   "metadata": {},
   "outputs": [
    {
     "data": {
      "text/plain": [
       "Index(['admin_visits', 'intercom_conversations', 'products_with_description',\n",
       "       'total_products_with_images', 'total_product_categories',\n",
       "       'total_events_on_Android', 'total_events_on_Web', 'total_events_on_iOS',\n",
       "       'country_AR', 'country_BR', 'country_CL', 'country_CO', 'country_MX',\n",
       "       'creation_platform_desktop', 'creation_platform_mobile_app',\n",
       "       'creation_platform_mobile_web', 'creation_platform_tablet',\n",
       "       'source_pulido_0', 'source_pulido_Brand', 'source_pulido_Direct',\n",
       "       'source_pulido_Facebook CPC', 'source_pulido_Google CPC Competitors',\n",
       "       'source_pulido_Google CPC DSA', 'source_pulido_Google CPC no Brand',\n",
       "       'source_pulido_Google Organic', 'source_pulido_Other',\n",
       "       'source_pulido_Store Referral', 'source_pulido_none',\n",
       "       'source_pulido_partners', 'creation_weekday_0', 'creation_weekday_1',\n",
       "       'creation_weekday_2', 'creation_weekday_3', 'creation_weekday_4',\n",
       "       'creation_weekday_5', 'creation_weekday_6', 'target'],\n",
       "      dtype='object')"
      ]
     },
     "execution_count": 3,
     "metadata": {},
     "output_type": "execute_result"
    }
   ],
   "source": [
    "df_data.columns"
   ]
  },
  {
   "cell_type": "code",
   "execution_count": 4,
   "metadata": {},
   "outputs": [],
   "source": [
    "df_data = df_data[['admin_visits', 'intercom_conversations', 'products_with_description',\n",
    "                   'total_products_with_images', 'total_product_categories','total_events_on_Android', \n",
    "                   'total_events_on_Web', 'total_events_on_iOS','country_AR', 'country_BR', 'country_CL',\n",
    "                   'country_CO', 'country_MX', 'target']]"
   ]
  },
  {
   "cell_type": "markdown",
   "metadata": {},
   "source": [
    "## Dataset entrenamiento y test\n",
    "\n",
    "A continuación se define una función que divide el dataset en dos: uno para entrenamiento del modelo y otro para la evaluación del mismo"
   ]
  },
  {
   "cell_type": "code",
   "execution_count": 5,
   "metadata": {},
   "outputs": [],
   "source": [
    "y = df_data['target']\n",
    "X = df_data.drop(columns=['target'])\n",
    "#Es de utilidad para XGBoost\n",
    "data_dmatrix = xgb.DMatrix(data=X,label=y)\n",
    "\n",
    "X_train, X_test, y_train, y_test = train_test_split(X, y, test_size=.3)"
   ]
  },
  {
   "cell_type": "markdown",
   "metadata": {},
   "source": [
    "## Definición y entrenamiento del modelo\n",
    "\n",
    "Se entrena un clasificador *XGBoost*. Primero se entrena con un modelo clásico dividiendo el dataset en *train* y *test*. Luego se entrena un modelo más robusto utilizando la estrategia de *kfolds*"
   ]
  },
  {
   "cell_type": "code",
   "execution_count": 6,
   "metadata": {},
   "outputs": [
    {
     "data": {
      "text/plain": [
       "XGBClassifier(alpha=10, base_score=0.5, booster='gbtree', colsample_bylevel=1,\n",
       "              colsample_bynode=1, colsample_bytree=0.3, gamma=0, gpu_id=-1,\n",
       "              importance_type='gain', interaction_constraints='',\n",
       "              learning_rate=0.1, max_delta_step=0, max_depth=5,\n",
       "              min_child_weight=1, missing=nan, monotone_constraints='()',\n",
       "              n_estimators=10, n_jobs=0, num_parallel_tree=1,\n",
       "              objective='binary:logistic', random_state=0, reg_alpha=10,\n",
       "              reg_lambda=1, scale_pos_weight=1, subsample=1,\n",
       "              tree_method='exact', validate_parameters=1, verbosity=None)"
      ]
     },
     "execution_count": 6,
     "metadata": {},
     "output_type": "execute_result"
    }
   ],
   "source": [
    "clf = xgb.XGBClassifier(colsample_bytree = 0.3, learning_rate = 0.1, max_depth = 5, alpha = 10, n_estimators = 10)\n",
    "clf.fit(X_train, y_train)"
   ]
  },
  {
   "cell_type": "code",
   "execution_count": 7,
   "metadata": {},
   "outputs": [],
   "source": [
    "param = {'max_depth': 5, 'eta': 1, 'objective': 'binary:logistic'}\n",
    "param['nthread'] = 4\n",
    "param['eval_metric'] = ['auc', 'aucpr']"
   ]
  },
  {
   "cell_type": "code",
   "execution_count": 8,
   "metadata": {},
   "outputs": [],
   "source": [
    "cv_results = xgb.cv(\n",
    "    dtrain=data_dmatrix, \n",
    "    params=param, \n",
    "    nfold=3,\n",
    "    num_boost_round=50,\n",
    "    early_stopping_rounds=10, \n",
    "    as_pandas=True\n",
    ")"
   ]
  },
  {
   "cell_type": "code",
   "execution_count": 9,
   "metadata": {},
   "outputs": [
    {
     "data": {
      "text/html": [
       "<div>\n",
       "<style scoped>\n",
       "    .dataframe tbody tr th:only-of-type {\n",
       "        vertical-align: middle;\n",
       "    }\n",
       "\n",
       "    .dataframe tbody tr th {\n",
       "        vertical-align: top;\n",
       "    }\n",
       "\n",
       "    .dataframe thead th {\n",
       "        text-align: right;\n",
       "    }\n",
       "</style>\n",
       "<table border=\"1\" class=\"dataframe\">\n",
       "  <thead>\n",
       "    <tr style=\"text-align: right;\">\n",
       "      <th></th>\n",
       "      <th>test-auc-mean</th>\n",
       "      <th>test-auc-std</th>\n",
       "      <th>test-aucpr-mean</th>\n",
       "      <th>test-aucpr-std</th>\n",
       "      <th>train-auc-mean</th>\n",
       "      <th>train-auc-std</th>\n",
       "      <th>train-aucpr-mean</th>\n",
       "      <th>train-aucpr-std</th>\n",
       "    </tr>\n",
       "  </thead>\n",
       "  <tbody>\n",
       "    <tr>\n",
       "      <th>0</th>\n",
       "      <td>0.843467</td>\n",
       "      <td>0.001916</td>\n",
       "      <td>0.812899</td>\n",
       "      <td>0.003681</td>\n",
       "      <td>0.845260</td>\n",
       "      <td>0.000746</td>\n",
       "      <td>0.816104</td>\n",
       "      <td>0.001356</td>\n",
       "    </tr>\n",
       "    <tr>\n",
       "      <th>1</th>\n",
       "      <td>0.847583</td>\n",
       "      <td>0.001833</td>\n",
       "      <td>0.818485</td>\n",
       "      <td>0.002835</td>\n",
       "      <td>0.850505</td>\n",
       "      <td>0.000240</td>\n",
       "      <td>0.824656</td>\n",
       "      <td>0.000422</td>\n",
       "    </tr>\n",
       "    <tr>\n",
       "      <th>2</th>\n",
       "      <td>0.849196</td>\n",
       "      <td>0.001210</td>\n",
       "      <td>0.820948</td>\n",
       "      <td>0.002696</td>\n",
       "      <td>0.852677</td>\n",
       "      <td>0.000368</td>\n",
       "      <td>0.827704</td>\n",
       "      <td>0.001164</td>\n",
       "    </tr>\n",
       "    <tr>\n",
       "      <th>3</th>\n",
       "      <td>0.851205</td>\n",
       "      <td>0.001435</td>\n",
       "      <td>0.822649</td>\n",
       "      <td>0.002920</td>\n",
       "      <td>0.855376</td>\n",
       "      <td>0.000645</td>\n",
       "      <td>0.830432</td>\n",
       "      <td>0.000708</td>\n",
       "    </tr>\n",
       "    <tr>\n",
       "      <th>4</th>\n",
       "      <td>0.851973</td>\n",
       "      <td>0.000476</td>\n",
       "      <td>0.822814</td>\n",
       "      <td>0.002150</td>\n",
       "      <td>0.857065</td>\n",
       "      <td>0.000712</td>\n",
       "      <td>0.833248</td>\n",
       "      <td>0.000404</td>\n",
       "    </tr>\n",
       "  </tbody>\n",
       "</table>\n",
       "</div>"
      ],
      "text/plain": [
       "   test-auc-mean  test-auc-std  test-aucpr-mean  test-aucpr-std  \\\n",
       "0       0.843467      0.001916         0.812899        0.003681   \n",
       "1       0.847583      0.001833         0.818485        0.002835   \n",
       "2       0.849196      0.001210         0.820948        0.002696   \n",
       "3       0.851205      0.001435         0.822649        0.002920   \n",
       "4       0.851973      0.000476         0.822814        0.002150   \n",
       "\n",
       "   train-auc-mean  train-auc-std  train-aucpr-mean  train-aucpr-std  \n",
       "0        0.845260       0.000746          0.816104         0.001356  \n",
       "1        0.850505       0.000240          0.824656         0.000422  \n",
       "2        0.852677       0.000368          0.827704         0.001164  \n",
       "3        0.855376       0.000645          0.830432         0.000708  \n",
       "4        0.857065       0.000712          0.833248         0.000404  "
      ]
     },
     "execution_count": 9,
     "metadata": {},
     "output_type": "execute_result"
    }
   ],
   "source": [
    "cv_results"
   ]
  },
  {
   "cell_type": "markdown",
   "metadata": {},
   "source": [
    "### Hiper parametrización del modelo"
   ]
  },
  {
   "cell_type": "markdown",
   "metadata": {},
   "source": [
    "Se analizan diferentes configuraciones del algoritmo con el fin de encontrar aquella que tiene un mejor rendimiento"
   ]
  },
  {
   "cell_type": "code",
   "execution_count": 14,
   "metadata": {},
   "outputs": [],
   "source": [
    "space={'max_depth': hp.quniform(\"max_depth\", 3, 18, 1),\n",
    "        'gamma': hp.uniform ('gamma', 1,9),\n",
    "        'reg_alpha' : hp.quniform('reg_alpha', 40,180,1),\n",
    "        'reg_lambda' : hp.uniform('reg_lambda', 0,1),\n",
    "        'colsample_bytree' : hp.uniform('colsample_bytree', 0.5,1),\n",
    "        'min_child_weight' : hp.quniform('min_child_weight', 0, 10, 1),\n",
    "        'n_estimators': 180,\n",
    "        'seed': 0\n",
    "    }"
   ]
  },
  {
   "cell_type": "code",
   "execution_count": 16,
   "metadata": {},
   "outputs": [],
   "source": [
    "def objective(space):\n",
    "    clf=xgb.XGBClassifier(\n",
    "                    n_estimators =space['n_estimators'], max_depth = int(space['max_depth']), gamma = space['gamma'],\n",
    "                    reg_alpha = int(space['reg_alpha']),min_child_weight=int(space['min_child_weight']),\n",
    "                    colsample_bytree=int(space['colsample_bytree']))\n",
    "    \n",
    "    evaluation = [( X_train, y_train), ( X_test, y_test)]\n",
    "    \n",
    "    clf.fit(X_train, y_train,\n",
    "            eval_set=evaluation, eval_metric=\"auc\",\n",
    "            early_stopping_rounds=10,verbose=False)\n",
    "    \n",
    "\n",
    "    y_pred = clf.predict(X_test)\n",
    "    f1_result = f1_score(y_test, y_pred, zero_division=1)\n",
    "    print (\"F1 score:\", f1_result)\n",
    "    return {'loss': -f1_result, 'status': STATUS_OK }"
   ]
  },
  {
   "cell_type": "code",
   "execution_count": null,
   "metadata": {},
   "outputs": [
    {
     "name": "stdout",
     "output_type": "stream",
     "text": [
      "F1 score:                                              \n",
      "0.7499631974090976                                     \n",
      "F1 score:                                                                         \n",
      "0.7420309398059708                                                                \n",
      "F1 score:                                                                         \n",
      "0.7436691157274458                                                                \n",
      "F1 score:                                                                         \n",
      "0.7474238268218548                                                                \n",
      "F1 score:                                                                         \n",
      "0.7506542331650142                                                                \n",
      "F1 score:                                                                         \n",
      "0.7514986576440734                                                                \n",
      "F1 score:                                                                         \n",
      "0.7471358428805237                                                                \n",
      "F1 score:                                                                         \n",
      "0.7474238268218548                                                                \n",
      "F1 score:                                                                         \n",
      "0.7435782556750299                                                                \n",
      "F1 score:                                                                         \n",
      "0.7483995115272175                                                                \n",
      "F1 score:                                                                          \n",
      "0.7454410122813546                                                                 \n",
      "F1 score:                                                                          \n",
      "0.7455167795222858                                                                 \n",
      "F1 score:                                                                          \n",
      "0.7495952906548933                                                                 \n",
      "F1 score:                                                                          \n",
      "0.7438022700119474                                                                 \n",
      "F1 score:                                                                          \n",
      "0.7419560250215379                                                                 \n",
      "F1 score:                                                                          \n",
      "0.7440714045636181                                                                 \n",
      "F1 score:                                                                          \n",
      "0.7494575809951091                                                                 \n",
      "F1 score:                                                                          \n",
      "0.7458156661459496                                                                 \n",
      "F1 score:                                                                          \n",
      "0.7455823816078271                                                                 \n",
      "F1 score:                                                                          \n",
      "0.751627496413991                                                                  \n",
      "F1 score:                                                                          \n",
      "0.748714153561517                                                                 \n",
      "F1 score:                                                                         \n",
      "0.7514986576440734                                                                \n",
      "F1 score:                                                                         \n",
      "0.7517193188922805                                                                \n",
      "F1 score:                                                                          \n",
      "0.743979389911511                                                                  \n",
      "F1 score:                                                                          \n",
      "0.7437504663831057                                                                 \n",
      "F1 score:                                                                          \n",
      "0.7509572901325479                                                                 \n",
      "F1 score:                                                                          \n",
      "0.7468660491760593                                                                 \n",
      "F1 score:                                                                          \n",
      "0.7433952393408317                                                                 \n",
      "F1 score:                                                                          \n",
      "0.7518199867637325                                                                 \n",
      "F1 score:                                                                          \n",
      "0.7500184026499815                                                                 \n",
      "F1 score:                                                                          \n",
      "0.7490293236697111                                                                 \n",
      "F1 score:                                                                          \n",
      "0.7436949708998657                                                                 \n",
      "F1 score:                                                                          \n",
      "0.7420309398059708                                                                 \n",
      "F1 score:                                                                          \n",
      "0.7519260400616333                                                                 \n",
      "F1 score:                                                                          \n",
      "0.7509572901325479                                                                 \n",
      "F1 score:                                                                          \n",
      "0.7499171667341603                                                                 \n",
      "F1 score:                                                                          \n",
      "0.7506542331650142                                                                 \n",
      "F1 score:                                                                          \n",
      "0.7497608711647414                                                                 \n",
      "F1 score:                                                                          \n",
      "0.7474238268218548                                                                 \n",
      "F1 score:                                                                          \n",
      "0.743155929038282                                                                  \n",
      "F1 score:                                                                          \n",
      "0.7499172885343528                                                                 \n",
      "F1 score:                                                                          \n",
      "0.7437695866288614                                                                 \n",
      "F1 score:                                                                          \n",
      "0.7420309398059708                                                                 \n",
      "F1 score:                                                                          \n",
      "0.7429681371633483                                                                 \n",
      "F1 score:                                                                          \n",
      "0.7419946818471218                                                                 \n",
      "F1 score:                                                                          \n",
      "0.7509572901325479                                                                 \n",
      "F1 score:                                                                          \n",
      "0.7466656731987185                                                                 \n",
      "F1 score:                                                                          \n",
      "0.7433522557514192                                                                 \n",
      " 48%|████▊     | 48/100 [00:54<00:59,  1.15s/trial, best loss: -0.7519260400616333]"
     ]
    }
   ],
   "source": [
    "trials = Trials()\n",
    "\n",
    "best_hyperparams = fmin(fn = objective,\n",
    "                        space = space,\n",
    "                        algo = tpe.suggest,\n",
    "                        max_evals = 100,\n",
    "                        trials = trials)\n"
   ]
  },
  {
   "cell_type": "code",
   "execution_count": null,
   "metadata": {},
   "outputs": [],
   "source": [
    "param_tuning = {\n",
    "        'learning_rate': [0.01, 0.1],\n",
    "        'max_depth': [3, 5, 7, 10],\n",
    "        'min_child_weight': [1, 3, 5],\n",
    "        'subsample': [0.5, 0.7],\n",
    "        'colsample_bytree': [0.3, 0.5, 0.7],\n",
    "        'n_estimators' : [100, 200, 500],\n",
    "        'objective': ['binary:logistic']\n",
    "    }"
   ]
  },
  {
   "cell_type": "code",
   "execution_count": null,
   "metadata": {},
   "outputs": [],
   "source": [
    "xg_clf = xgb.XGBClassifier()\n",
    "\n",
    "gsearch = GridSearchCV(estimator = xg_clf,\n",
    "                           param_grid = param_tuning,                        \n",
    "                           scoring = 'f1', #F1 score\n",
    "                           cv = 5,\n",
    "                           n_jobs = -1,\n",
    "                           verbose = 1)\n",
    "\n",
    "gsearch.fit(X_train,y_train)"
   ]
  },
  {
   "cell_type": "code",
   "execution_count": null,
   "metadata": {},
   "outputs": [],
   "source": [
    "gsearch.best_params_"
   ]
  },
  {
   "cell_type": "code",
   "execution_count": null,
   "metadata": {},
   "outputs": [],
   "source": [
    "xg_clf = xgb.train(params=gsearch.best_params_, dtrain=data_dmatrix, num_boost_round=10)"
   ]
  },
  {
   "cell_type": "markdown",
   "metadata": {},
   "source": [
    "## Análisis de los features utilizados por el modelo\n",
    "\n",
    "Para poder obtener *insights* que puedan ser de utilidad para el negocio se analizan la importancia que el modelo le asigna a cada uno de los *features*.\n",
    "\n",
    "Para ello se utiliza la librería *shap* que permite realizar un análisis de la utilización de los *features* por el modelo"
   ]
  },
  {
   "cell_type": "code",
   "execution_count": null,
   "metadata": {},
   "outputs": [],
   "source": [
    "#Path for using shap library\n",
    "\n",
    "model_bytearray = xg_clf.save_raw()[4:]\n",
    "def myfun(self=None):\n",
    "    return model_bytearray\n",
    "\n",
    "xg_clf.save_raw = myfun"
   ]
  },
  {
   "cell_type": "code",
   "execution_count": null,
   "metadata": {},
   "outputs": [],
   "source": [
    "explainer = shap.TreeExplainer(xg_clf)"
   ]
  },
  {
   "cell_type": "code",
   "execution_count": null,
   "metadata": {},
   "outputs": [],
   "source": [
    "pred = xg_clf.predict(data_dmatrix, output_margin=True)\n",
    "explainer = shap.TreeExplainer(xg_clf)\n",
    "shap_values = explainer.shap_values(data_dmatrix)\n",
    "np.abs(shap_values.sum(1) + explainer.expected_value - pred).max()"
   ]
  },
  {
   "cell_type": "markdown",
   "metadata": {},
   "source": [
    "Primero se observa la importancia que le asigna el modelo a cada *feature*"
   ]
  },
  {
   "cell_type": "code",
   "execution_count": null,
   "metadata": {},
   "outputs": [],
   "source": [
    "shap.summary_plot(shap_values, X, plot_type='bar')"
   ]
  },
  {
   "cell_type": "code",
   "execution_count": null,
   "metadata": {},
   "outputs": [],
   "source": [
    "plt.rcParams['figure.figsize'] = [10,10]\n",
    "xgb.plot_importance(xg_clf)"
   ]
  },
  {
   "cell_type": "markdown",
   "metadata": {},
   "source": [
    "Luego se observa el impacto que cada *feature* tuvo para el modelo a la hora de generar las predicciones sobre el dataset"
   ]
  },
  {
   "cell_type": "code",
   "execution_count": null,
   "metadata": {},
   "outputs": [],
   "source": [
    "shap.summary_plot(shap_values, X)"
   ]
  },
  {
   "cell_type": "code",
   "execution_count": null,
   "metadata": {},
   "outputs": [],
   "source": [
    "# visualize the first prediction's explanation\n",
    "shap.initjs()\n",
    "shap.force_plot(explainer.expected_value, shap_values[0,:], X.iloc[0,:])"
   ]
  },
  {
   "cell_type": "code",
   "execution_count": null,
   "metadata": {},
   "outputs": [],
   "source": [
    "plt.rcParams['figure.figsize'] = [50, 50]\n",
    "xgb.plot_tree(xg_clf, num_trees=1)"
   ]
  }
 ],
 "metadata": {
  "kernelspec": {
   "display_name": "Python 3",
   "language": "python",
   "name": "python3"
  },
  "language_info": {
   "codemirror_mode": {
    "name": "ipython",
    "version": 3
   },
   "file_extension": ".py",
   "mimetype": "text/x-python",
   "name": "python",
   "nbconvert_exporter": "python",
   "pygments_lexer": "ipython3",
   "version": "3.5.2"
  }
 },
 "nbformat": 4,
 "nbformat_minor": 2
}
