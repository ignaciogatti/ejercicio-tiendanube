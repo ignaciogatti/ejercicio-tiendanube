{
 "cells": [
  {
   "cell_type": "markdown",
   "metadata": {},
   "source": [
    "# EDA dataset TiendaNube"
   ]
  },
  {
   "cell_type": "markdown",
   "metadata": {},
   "source": [
    "Esta notebook ofrece un análisis de la distribución de los datos almacenados en el dataset (*Exploratory Data Analysis*). El objetvio es poder determinar con qué tipos de variables cuenta el dataset (numéricas o categóricas) y ver la distribución de los mismos"
   ]
  },
  {
   "cell_type": "code",
   "execution_count": 1,
   "metadata": {},
   "outputs": [],
   "source": [
    "import pandas as pd\n",
    "import numpy as np\n",
    "import matplotlib.pyplot as plt\n",
    "import seaborn as sns"
   ]
  },
  {
   "cell_type": "markdown",
   "metadata": {},
   "source": [
    "## Lectura de datos"
   ]
  },
  {
   "cell_type": "code",
   "execution_count": 2,
   "metadata": {},
   "outputs": [
    {
     "data": {
      "text/html": [
       "<div>\n",
       "<style scoped>\n",
       "    .dataframe tbody tr th:only-of-type {\n",
       "        vertical-align: middle;\n",
       "    }\n",
       "\n",
       "    .dataframe tbody tr th {\n",
       "        vertical-align: top;\n",
       "    }\n",
       "\n",
       "    .dataframe thead th {\n",
       "        text-align: right;\n",
       "    }\n",
       "</style>\n",
       "<table border=\"1\" class=\"dataframe\">\n",
       "  <thead>\n",
       "    <tr style=\"text-align: right;\">\n",
       "      <th></th>\n",
       "      <th>id</th>\n",
       "      <th>country</th>\n",
       "      <th>creation_platform</th>\n",
       "      <th>admin_visits</th>\n",
       "      <th>intercom_conversations</th>\n",
       "      <th>source_pulido</th>\n",
       "      <th>creation_weekday</th>\n",
       "      <th>creation_hour</th>\n",
       "      <th>products_with_description</th>\n",
       "      <th>total_products_with_images</th>\n",
       "      <th>total_product_categories</th>\n",
       "      <th>total_events_on_Android</th>\n",
       "      <th>total_events_on_Web</th>\n",
       "      <th>total_events_on_iOS</th>\n",
       "      <th>target</th>\n",
       "    </tr>\n",
       "  </thead>\n",
       "  <tbody>\n",
       "    <tr>\n",
       "      <th>0</th>\n",
       "      <td>589015</td>\n",
       "      <td>BR</td>\n",
       "      <td>mobile_app</td>\n",
       "      <td>1.0</td>\n",
       "      <td>0.0</td>\n",
       "      <td>Other</td>\n",
       "      <td>6</td>\n",
       "      <td>3</td>\n",
       "      <td>2.0</td>\n",
       "      <td>1</td>\n",
       "      <td>0.0</td>\n",
       "      <td>215.0</td>\n",
       "      <td>6.0</td>\n",
       "      <td>0.0</td>\n",
       "      <td>0</td>\n",
       "    </tr>\n",
       "    <tr>\n",
       "      <th>1</th>\n",
       "      <td>589016</td>\n",
       "      <td>BR</td>\n",
       "      <td>mobile_web</td>\n",
       "      <td>2.0</td>\n",
       "      <td>0.0</td>\n",
       "      <td>Google CPC no Brand</td>\n",
       "      <td>6</td>\n",
       "      <td>3</td>\n",
       "      <td>1.0</td>\n",
       "      <td>1</td>\n",
       "      <td>0.0</td>\n",
       "      <td>0.0</td>\n",
       "      <td>44.0</td>\n",
       "      <td>0.0</td>\n",
       "      <td>0</td>\n",
       "    </tr>\n",
       "    <tr>\n",
       "      <th>2</th>\n",
       "      <td>589017</td>\n",
       "      <td>BR</td>\n",
       "      <td>mobile_web</td>\n",
       "      <td>1.0</td>\n",
       "      <td>0.0</td>\n",
       "      <td>Google CPC no Brand</td>\n",
       "      <td>6</td>\n",
       "      <td>3</td>\n",
       "      <td>0.0</td>\n",
       "      <td>0</td>\n",
       "      <td>0.0</td>\n",
       "      <td>0.0</td>\n",
       "      <td>16.0</td>\n",
       "      <td>0.0</td>\n",
       "      <td>0</td>\n",
       "    </tr>\n",
       "    <tr>\n",
       "      <th>3</th>\n",
       "      <td>589018</td>\n",
       "      <td>BR</td>\n",
       "      <td>mobile_web</td>\n",
       "      <td>1.0</td>\n",
       "      <td>0.0</td>\n",
       "      <td>Google CPC no Brand</td>\n",
       "      <td>6</td>\n",
       "      <td>3</td>\n",
       "      <td>0.0</td>\n",
       "      <td>0</td>\n",
       "      <td>0.0</td>\n",
       "      <td>0.0</td>\n",
       "      <td>15.0</td>\n",
       "      <td>0.0</td>\n",
       "      <td>0</td>\n",
       "    </tr>\n",
       "    <tr>\n",
       "      <th>4</th>\n",
       "      <td>589019</td>\n",
       "      <td>BR</td>\n",
       "      <td>mobile_web</td>\n",
       "      <td>1.0</td>\n",
       "      <td>0.0</td>\n",
       "      <td>Google CPC no Brand</td>\n",
       "      <td>6</td>\n",
       "      <td>3</td>\n",
       "      <td>0.0</td>\n",
       "      <td>0</td>\n",
       "      <td>0.0</td>\n",
       "      <td>0.0</td>\n",
       "      <td>24.0</td>\n",
       "      <td>0.0</td>\n",
       "      <td>0</td>\n",
       "    </tr>\n",
       "  </tbody>\n",
       "</table>\n",
       "</div>"
      ],
      "text/plain": [
       "       id country creation_platform  admin_visits  intercom_conversations  \\\n",
       "0  589015      BR        mobile_app           1.0                     0.0   \n",
       "1  589016      BR        mobile_web           2.0                     0.0   \n",
       "2  589017      BR        mobile_web           1.0                     0.0   \n",
       "3  589018      BR        mobile_web           1.0                     0.0   \n",
       "4  589019      BR        mobile_web           1.0                     0.0   \n",
       "\n",
       "         source_pulido  creation_weekday  creation_hour  \\\n",
       "0                Other                 6              3   \n",
       "1  Google CPC no Brand                 6              3   \n",
       "2  Google CPC no Brand                 6              3   \n",
       "3  Google CPC no Brand                 6              3   \n",
       "4  Google CPC no Brand                 6              3   \n",
       "\n",
       "   products_with_description  total_products_with_images  \\\n",
       "0                        2.0                           1   \n",
       "1                        1.0                           1   \n",
       "2                        0.0                           0   \n",
       "3                        0.0                           0   \n",
       "4                        0.0                           0   \n",
       "\n",
       "   total_product_categories  total_events_on_Android  total_events_on_Web  \\\n",
       "0                       0.0                    215.0                  6.0   \n",
       "1                       0.0                      0.0                 44.0   \n",
       "2                       0.0                      0.0                 16.0   \n",
       "3                       0.0                      0.0                 15.0   \n",
       "4                       0.0                      0.0                 24.0   \n",
       "\n",
       "   total_events_on_iOS  target  \n",
       "0                  0.0       0  \n",
       "1                  0.0       0  \n",
       "2                  0.0       0  \n",
       "3                  0.0       0  \n",
       "4                  0.0       0  "
      ]
     },
     "execution_count": 2,
     "metadata": {},
     "output_type": "execute_result"
    }
   ],
   "source": [
    "df_data = pd.read_csv('test_data.csv', delimiter=';', index_col=0)\n",
    "df_data.head()"
   ]
  },
  {
   "cell_type": "code",
   "execution_count": 3,
   "metadata": {},
   "outputs": [
    {
     "data": {
      "text/plain": [
       "(585340, 15)"
      ]
     },
     "execution_count": 3,
     "metadata": {},
     "output_type": "execute_result"
    }
   ],
   "source": [
    "df_data.shape"
   ]
  },
  {
   "cell_type": "markdown",
   "metadata": {},
   "source": [
    "**Chequeo de tipos de datos y nulidad**"
   ]
  },
  {
   "cell_type": "code",
   "execution_count": 4,
   "metadata": {},
   "outputs": [
    {
     "name": "stdout",
     "output_type": "stream",
     "text": [
      "<class 'pandas.core.frame.DataFrame'>\n",
      "Int64Index: 585340 entries, 0 to 585339\n",
      "Data columns (total 15 columns):\n",
      "id                            585340 non-null int64\n",
      "country                       585340 non-null object\n",
      "creation_platform             585340 non-null object\n",
      "admin_visits                  585340 non-null float64\n",
      "intercom_conversations        585340 non-null float64\n",
      "source_pulido                 585340 non-null object\n",
      "creation_weekday              585340 non-null int64\n",
      "creation_hour                 585340 non-null int64\n",
      "products_with_description     585340 non-null float64\n",
      "total_products_with_images    585340 non-null int64\n",
      "total_product_categories      585340 non-null float64\n",
      "total_events_on_Android       585340 non-null float64\n",
      "total_events_on_Web           585340 non-null float64\n",
      "total_events_on_iOS           585340 non-null float64\n",
      "target                        585340 non-null int64\n",
      "dtypes: float64(7), int64(5), object(3)\n",
      "memory usage: 71.5+ MB\n"
     ]
    }
   ],
   "source": [
    "# Tipos de datos \n",
    "df_data.info()"
   ]
  },
  {
   "cell_type": "code",
   "execution_count": 5,
   "metadata": {},
   "outputs": [
    {
     "data": {
      "text/plain": [
       "id                            False\n",
       "country                       False\n",
       "creation_platform             False\n",
       "admin_visits                  False\n",
       "intercom_conversations        False\n",
       "source_pulido                 False\n",
       "creation_weekday              False\n",
       "creation_hour                 False\n",
       "products_with_description     False\n",
       "total_products_with_images    False\n",
       "total_product_categories      False\n",
       "total_events_on_Android       False\n",
       "total_events_on_Web           False\n",
       "total_events_on_iOS           False\n",
       "target                        False\n",
       "dtype: bool"
      ]
     },
     "execution_count": 5,
     "metadata": {},
     "output_type": "execute_result"
    }
   ],
   "source": [
    "# Chequeo de NaN\n",
    "df_data.isna().any()"
   ]
  },
  {
   "cell_type": "code",
   "execution_count": 6,
   "metadata": {},
   "outputs": [
    {
     "data": {
      "text/html": [
       "<div>\n",
       "<style scoped>\n",
       "    .dataframe tbody tr th:only-of-type {\n",
       "        vertical-align: middle;\n",
       "    }\n",
       "\n",
       "    .dataframe tbody tr th {\n",
       "        vertical-align: top;\n",
       "    }\n",
       "\n",
       "    .dataframe thead th {\n",
       "        text-align: right;\n",
       "    }\n",
       "</style>\n",
       "<table border=\"1\" class=\"dataframe\">\n",
       "  <thead>\n",
       "    <tr style=\"text-align: right;\">\n",
       "      <th></th>\n",
       "      <th>id</th>\n",
       "      <th>admin_visits</th>\n",
       "      <th>intercom_conversations</th>\n",
       "      <th>creation_weekday</th>\n",
       "      <th>creation_hour</th>\n",
       "      <th>products_with_description</th>\n",
       "      <th>total_products_with_images</th>\n",
       "      <th>total_product_categories</th>\n",
       "      <th>total_events_on_Android</th>\n",
       "      <th>total_events_on_Web</th>\n",
       "      <th>total_events_on_iOS</th>\n",
       "      <th>target</th>\n",
       "    </tr>\n",
       "  </thead>\n",
       "  <tbody>\n",
       "    <tr>\n",
       "      <th>count</th>\n",
       "      <td>5.853400e+05</td>\n",
       "      <td>585340.000000</td>\n",
       "      <td>585340.000000</td>\n",
       "      <td>585340.000000</td>\n",
       "      <td>585340.000000</td>\n",
       "      <td>585340.000000</td>\n",
       "      <td>585340.000000</td>\n",
       "      <td>585340.000000</td>\n",
       "      <td>585340.000000</td>\n",
       "      <td>585340.000000</td>\n",
       "      <td>585340.000000</td>\n",
       "      <td>585340.000000</td>\n",
       "    </tr>\n",
       "    <tr>\n",
       "      <th>mean</th>\n",
       "      <td>8.849227e+05</td>\n",
       "      <td>1.091154</td>\n",
       "      <td>0.005793</td>\n",
       "      <td>2.725496</td>\n",
       "      <td>13.565886</td>\n",
       "      <td>5.232655</td>\n",
       "      <td>5.198054</td>\n",
       "      <td>1.289987</td>\n",
       "      <td>7.105310</td>\n",
       "      <td>68.441636</td>\n",
       "      <td>0.895406</td>\n",
       "      <td>0.080071</td>\n",
       "    </tr>\n",
       "    <tr>\n",
       "      <th>std</th>\n",
       "      <td>1.711352e+05</td>\n",
       "      <td>0.543782</td>\n",
       "      <td>0.118485</td>\n",
       "      <td>1.937653</td>\n",
       "      <td>7.157861</td>\n",
       "      <td>104.301081</td>\n",
       "      <td>97.490506</td>\n",
       "      <td>9.712947</td>\n",
       "      <td>36.444225</td>\n",
       "      <td>124.612021</td>\n",
       "      <td>12.274338</td>\n",
       "      <td>0.271404</td>\n",
       "    </tr>\n",
       "    <tr>\n",
       "      <th>min</th>\n",
       "      <td>5.890150e+05</td>\n",
       "      <td>0.000000</td>\n",
       "      <td>0.000000</td>\n",
       "      <td>0.000000</td>\n",
       "      <td>0.000000</td>\n",
       "      <td>0.000000</td>\n",
       "      <td>0.000000</td>\n",
       "      <td>0.000000</td>\n",
       "      <td>0.000000</td>\n",
       "      <td>0.000000</td>\n",
       "      <td>0.000000</td>\n",
       "      <td>0.000000</td>\n",
       "    </tr>\n",
       "    <tr>\n",
       "      <th>25%</th>\n",
       "      <td>7.365218e+05</td>\n",
       "      <td>1.000000</td>\n",
       "      <td>0.000000</td>\n",
       "      <td>1.000000</td>\n",
       "      <td>10.000000</td>\n",
       "      <td>0.000000</td>\n",
       "      <td>0.000000</td>\n",
       "      <td>0.000000</td>\n",
       "      <td>0.000000</td>\n",
       "      <td>11.000000</td>\n",
       "      <td>0.000000</td>\n",
       "      <td>0.000000</td>\n",
       "    </tr>\n",
       "    <tr>\n",
       "      <th>50%</th>\n",
       "      <td>8.847855e+05</td>\n",
       "      <td>1.000000</td>\n",
       "      <td>0.000000</td>\n",
       "      <td>3.000000</td>\n",
       "      <td>15.000000</td>\n",
       "      <td>0.000000</td>\n",
       "      <td>0.000000</td>\n",
       "      <td>0.000000</td>\n",
       "      <td>0.000000</td>\n",
       "      <td>27.000000</td>\n",
       "      <td>0.000000</td>\n",
       "      <td>0.000000</td>\n",
       "    </tr>\n",
       "    <tr>\n",
       "      <th>75%</th>\n",
       "      <td>1.032991e+06</td>\n",
       "      <td>1.000000</td>\n",
       "      <td>0.000000</td>\n",
       "      <td>4.000000</td>\n",
       "      <td>19.000000</td>\n",
       "      <td>1.000000</td>\n",
       "      <td>1.000000</td>\n",
       "      <td>0.000000</td>\n",
       "      <td>0.000000</td>\n",
       "      <td>70.000000</td>\n",
       "      <td>0.000000</td>\n",
       "      <td>0.000000</td>\n",
       "    </tr>\n",
       "    <tr>\n",
       "      <th>max</th>\n",
       "      <td>1.181809e+06</td>\n",
       "      <td>22.000000</td>\n",
       "      <td>27.000000</td>\n",
       "      <td>6.000000</td>\n",
       "      <td>23.000000</td>\n",
       "      <td>28530.000000</td>\n",
       "      <td>28530.000000</td>\n",
       "      <td>3059.000000</td>\n",
       "      <td>1706.000000</td>\n",
       "      <td>14596.000000</td>\n",
       "      <td>2527.000000</td>\n",
       "      <td>1.000000</td>\n",
       "    </tr>\n",
       "  </tbody>\n",
       "</table>\n",
       "</div>"
      ],
      "text/plain": [
       "                 id   admin_visits  intercom_conversations  creation_weekday  \\\n",
       "count  5.853400e+05  585340.000000           585340.000000     585340.000000   \n",
       "mean   8.849227e+05       1.091154                0.005793          2.725496   \n",
       "std    1.711352e+05       0.543782                0.118485          1.937653   \n",
       "min    5.890150e+05       0.000000                0.000000          0.000000   \n",
       "25%    7.365218e+05       1.000000                0.000000          1.000000   \n",
       "50%    8.847855e+05       1.000000                0.000000          3.000000   \n",
       "75%    1.032991e+06       1.000000                0.000000          4.000000   \n",
       "max    1.181809e+06      22.000000               27.000000          6.000000   \n",
       "\n",
       "       creation_hour  products_with_description  total_products_with_images  \\\n",
       "count  585340.000000              585340.000000               585340.000000   \n",
       "mean       13.565886                   5.232655                    5.198054   \n",
       "std         7.157861                 104.301081                   97.490506   \n",
       "min         0.000000                   0.000000                    0.000000   \n",
       "25%        10.000000                   0.000000                    0.000000   \n",
       "50%        15.000000                   0.000000                    0.000000   \n",
       "75%        19.000000                   1.000000                    1.000000   \n",
       "max        23.000000               28530.000000                28530.000000   \n",
       "\n",
       "       total_product_categories  total_events_on_Android  total_events_on_Web  \\\n",
       "count             585340.000000            585340.000000        585340.000000   \n",
       "mean                   1.289987                 7.105310            68.441636   \n",
       "std                    9.712947                36.444225           124.612021   \n",
       "min                    0.000000                 0.000000             0.000000   \n",
       "25%                    0.000000                 0.000000            11.000000   \n",
       "50%                    0.000000                 0.000000            27.000000   \n",
       "75%                    0.000000                 0.000000            70.000000   \n",
       "max                 3059.000000              1706.000000         14596.000000   \n",
       "\n",
       "       total_events_on_iOS         target  \n",
       "count        585340.000000  585340.000000  \n",
       "mean              0.895406       0.080071  \n",
       "std              12.274338       0.271404  \n",
       "min               0.000000       0.000000  \n",
       "25%               0.000000       0.000000  \n",
       "50%               0.000000       0.000000  \n",
       "75%               0.000000       0.000000  \n",
       "max            2527.000000       1.000000  "
      ]
     },
     "execution_count": 6,
     "metadata": {},
     "output_type": "execute_result"
    }
   ],
   "source": [
    "df_data.describe()"
   ]
  },
  {
   "cell_type": "markdown",
   "metadata": {},
   "source": [
    "Se puede observar que hay un conjunto de variables cuya media coincide con el percentil 50% (**admin_visits**, **creation_weekday**, **creation_hour**).\n",
    "\n",
    "Hay otro conjunto de variables cuyo valor del percentil 75% está muy lejos del valor máximo, lo que indica, que hay valores *outliers* para esas variables (**admin_visits**, **intercom_conversations**, **products_with_description**, **total_products_with_images**, **total_product_categories**, **total_events_on_Android**, **total_events_on_Web**, **total_events_on_iOS**)"
   ]
  },
  {
   "cell_type": "code",
   "execution_count": 8,
   "metadata": {},
   "outputs": [
    {
     "data": {
      "text/plain": [
       "1071.66100000008"
      ]
     },
     "execution_count": 8,
     "metadata": {},
     "output_type": "execute_result"
    }
   ],
   "source": [
    "df_data['total_events_on_Web'].quantile(0.999)"
   ]
  },
  {
   "cell_type": "markdown",
   "metadata": {},
   "source": [
    "## Limpieza de outliers"
   ]
  },
  {
   "cell_type": "markdown",
   "metadata": {},
   "source": [
    "Para eliminar los outliers, se definen los valores mínimos y máximos validos para la variable utilizando los cuartiles"
   ]
  },
  {
   "cell_type": "code",
   "execution_count": 9,
   "metadata": {},
   "outputs": [],
   "source": [
    "def clean_outliers_with_quartiles(df_sample, col):\n",
    "    \n",
    "    #Dropping the outlier rows with Percentiles of a column\n",
    "    upper_lim = df_sample[col].quantile(0.999)\n",
    "\n",
    "    df_sample = df_sample[(df_sample[col] < upper_lim)]\n",
    "    \n",
    "    return df_sample\n",
    "    "
   ]
  },
  {
   "cell_type": "code",
   "execution_count": 10,
   "metadata": {},
   "outputs": [],
   "source": [
    "columns_to_drop_outliers = [ \n",
    "    'products_with_description', \n",
    "    'total_products_with_images', \n",
    "    'total_product_categories',\n",
    "    'total_events_on_Android',\n",
    "    'total_events_on_Web',\n",
    "    'total_events_on_iOS'\n",
    "]"
   ]
  },
  {
   "cell_type": "code",
   "execution_count": 11,
   "metadata": {},
   "outputs": [],
   "source": [
    "for col in columns_to_drop_outliers[1:2]:\n",
    "    df_data = clean_outliers_with_quartiles(df_data, 'total_events_on_Web') "
   ]
  },
  {
   "cell_type": "code",
   "execution_count": 12,
   "metadata": {},
   "outputs": [
    {
     "data": {
      "text/html": [
       "<div>\n",
       "<style scoped>\n",
       "    .dataframe tbody tr th:only-of-type {\n",
       "        vertical-align: middle;\n",
       "    }\n",
       "\n",
       "    .dataframe tbody tr th {\n",
       "        vertical-align: top;\n",
       "    }\n",
       "\n",
       "    .dataframe thead th {\n",
       "        text-align: right;\n",
       "    }\n",
       "</style>\n",
       "<table border=\"1\" class=\"dataframe\">\n",
       "  <thead>\n",
       "    <tr style=\"text-align: right;\">\n",
       "      <th></th>\n",
       "      <th>id</th>\n",
       "      <th>admin_visits</th>\n",
       "      <th>intercom_conversations</th>\n",
       "      <th>creation_weekday</th>\n",
       "      <th>creation_hour</th>\n",
       "      <th>products_with_description</th>\n",
       "      <th>total_products_with_images</th>\n",
       "      <th>total_product_categories</th>\n",
       "      <th>total_events_on_Android</th>\n",
       "      <th>total_events_on_Web</th>\n",
       "      <th>total_events_on_iOS</th>\n",
       "      <th>target</th>\n",
       "    </tr>\n",
       "  </thead>\n",
       "  <tbody>\n",
       "    <tr>\n",
       "      <th>count</th>\n",
       "      <td>5.847540e+05</td>\n",
       "      <td>584754.000000</td>\n",
       "      <td>584754.000000</td>\n",
       "      <td>584754.000000</td>\n",
       "      <td>584754.000000</td>\n",
       "      <td>584754.000000</td>\n",
       "      <td>584754.000000</td>\n",
       "      <td>584754.000000</td>\n",
       "      <td>584754.000000</td>\n",
       "      <td>584754.000000</td>\n",
       "      <td>584754.000000</td>\n",
       "      <td>584754.000000</td>\n",
       "    </tr>\n",
       "    <tr>\n",
       "      <th>mean</th>\n",
       "      <td>8.848483e+05</td>\n",
       "      <td>1.090260</td>\n",
       "      <td>0.005700</td>\n",
       "      <td>2.725509</td>\n",
       "      <td>13.565188</td>\n",
       "      <td>4.924443</td>\n",
       "      <td>5.029358</td>\n",
       "      <td>1.236337</td>\n",
       "      <td>7.097316</td>\n",
       "      <td>66.830183</td>\n",
       "      <td>0.890893</td>\n",
       "      <td>0.079551</td>\n",
       "    </tr>\n",
       "    <tr>\n",
       "      <th>std</th>\n",
       "      <td>1.711474e+05</td>\n",
       "      <td>0.543107</td>\n",
       "      <td>0.113613</td>\n",
       "      <td>1.937634</td>\n",
       "      <td>7.158185</td>\n",
       "      <td>99.892654</td>\n",
       "      <td>95.091803</td>\n",
       "      <td>7.828755</td>\n",
       "      <td>36.409967</td>\n",
       "      <td>107.757332</td>\n",
       "      <td>12.229170</td>\n",
       "      <td>0.270598</td>\n",
       "    </tr>\n",
       "    <tr>\n",
       "      <th>min</th>\n",
       "      <td>5.890150e+05</td>\n",
       "      <td>0.000000</td>\n",
       "      <td>0.000000</td>\n",
       "      <td>0.000000</td>\n",
       "      <td>0.000000</td>\n",
       "      <td>0.000000</td>\n",
       "      <td>0.000000</td>\n",
       "      <td>0.000000</td>\n",
       "      <td>0.000000</td>\n",
       "      <td>0.000000</td>\n",
       "      <td>0.000000</td>\n",
       "      <td>0.000000</td>\n",
       "    </tr>\n",
       "    <tr>\n",
       "      <th>25%</th>\n",
       "      <td>7.364202e+05</td>\n",
       "      <td>1.000000</td>\n",
       "      <td>0.000000</td>\n",
       "      <td>1.000000</td>\n",
       "      <td>10.000000</td>\n",
       "      <td>0.000000</td>\n",
       "      <td>0.000000</td>\n",
       "      <td>0.000000</td>\n",
       "      <td>0.000000</td>\n",
       "      <td>11.000000</td>\n",
       "      <td>0.000000</td>\n",
       "      <td>0.000000</td>\n",
       "    </tr>\n",
       "    <tr>\n",
       "      <th>50%</th>\n",
       "      <td>8.846645e+05</td>\n",
       "      <td>1.000000</td>\n",
       "      <td>0.000000</td>\n",
       "      <td>3.000000</td>\n",
       "      <td>15.000000</td>\n",
       "      <td>0.000000</td>\n",
       "      <td>0.000000</td>\n",
       "      <td>0.000000</td>\n",
       "      <td>0.000000</td>\n",
       "      <td>27.000000</td>\n",
       "      <td>0.000000</td>\n",
       "      <td>0.000000</td>\n",
       "    </tr>\n",
       "    <tr>\n",
       "      <th>75%</th>\n",
       "      <td>1.032924e+06</td>\n",
       "      <td>1.000000</td>\n",
       "      <td>0.000000</td>\n",
       "      <td>4.000000</td>\n",
       "      <td>19.000000</td>\n",
       "      <td>1.000000</td>\n",
       "      <td>1.000000</td>\n",
       "      <td>0.000000</td>\n",
       "      <td>0.000000</td>\n",
       "      <td>70.000000</td>\n",
       "      <td>0.000000</td>\n",
       "      <td>0.000000</td>\n",
       "    </tr>\n",
       "    <tr>\n",
       "      <th>max</th>\n",
       "      <td>1.181809e+06</td>\n",
       "      <td>22.000000</td>\n",
       "      <td>27.000000</td>\n",
       "      <td>6.000000</td>\n",
       "      <td>23.000000</td>\n",
       "      <td>28530.000000</td>\n",
       "      <td>28530.000000</td>\n",
       "      <td>2562.000000</td>\n",
       "      <td>1706.000000</td>\n",
       "      <td>1071.000000</td>\n",
       "      <td>2527.000000</td>\n",
       "      <td>1.000000</td>\n",
       "    </tr>\n",
       "  </tbody>\n",
       "</table>\n",
       "</div>"
      ],
      "text/plain": [
       "                 id   admin_visits  intercom_conversations  creation_weekday  \\\n",
       "count  5.847540e+05  584754.000000           584754.000000     584754.000000   \n",
       "mean   8.848483e+05       1.090260                0.005700          2.725509   \n",
       "std    1.711474e+05       0.543107                0.113613          1.937634   \n",
       "min    5.890150e+05       0.000000                0.000000          0.000000   \n",
       "25%    7.364202e+05       1.000000                0.000000          1.000000   \n",
       "50%    8.846645e+05       1.000000                0.000000          3.000000   \n",
       "75%    1.032924e+06       1.000000                0.000000          4.000000   \n",
       "max    1.181809e+06      22.000000               27.000000          6.000000   \n",
       "\n",
       "       creation_hour  products_with_description  total_products_with_images  \\\n",
       "count  584754.000000              584754.000000               584754.000000   \n",
       "mean       13.565188                   4.924443                    5.029358   \n",
       "std         7.158185                  99.892654                   95.091803   \n",
       "min         0.000000                   0.000000                    0.000000   \n",
       "25%        10.000000                   0.000000                    0.000000   \n",
       "50%        15.000000                   0.000000                    0.000000   \n",
       "75%        19.000000                   1.000000                    1.000000   \n",
       "max        23.000000               28530.000000                28530.000000   \n",
       "\n",
       "       total_product_categories  total_events_on_Android  total_events_on_Web  \\\n",
       "count             584754.000000            584754.000000        584754.000000   \n",
       "mean                   1.236337                 7.097316            66.830183   \n",
       "std                    7.828755                36.409967           107.757332   \n",
       "min                    0.000000                 0.000000             0.000000   \n",
       "25%                    0.000000                 0.000000            11.000000   \n",
       "50%                    0.000000                 0.000000            27.000000   \n",
       "75%                    0.000000                 0.000000            70.000000   \n",
       "max                 2562.000000              1706.000000          1071.000000   \n",
       "\n",
       "       total_events_on_iOS         target  \n",
       "count        584754.000000  584754.000000  \n",
       "mean              0.890893       0.079551  \n",
       "std              12.229170       0.270598  \n",
       "min               0.000000       0.000000  \n",
       "25%               0.000000       0.000000  \n",
       "50%               0.000000       0.000000  \n",
       "75%               0.000000       0.000000  \n",
       "max            2527.000000       1.000000  "
      ]
     },
     "execution_count": 12,
     "metadata": {},
     "output_type": "execute_result"
    }
   ],
   "source": [
    "df_data.describe()"
   ]
  },
  {
   "cell_type": "code",
   "execution_count": null,
   "metadata": {},
   "outputs": [],
   "source": [
    "df_data.shape"
   ]
  },
  {
   "cell_type": "markdown",
   "metadata": {},
   "source": [
    "## Análisis de los datos"
   ]
  },
  {
   "cell_type": "markdown",
   "metadata": {},
   "source": [
    "**Distribución de la etiqueta target**\n",
    "\n",
    "Aquí se puede observar la cantidad casos en los que el *trial* se convirtió en *payment*· El valor 0 indica que no lo hizo y el 1 que sí. Como se observa en el gráfico, el dataset se encuentra desbalanceado en favor del valor 0."
   ]
  },
  {
   "cell_type": "code",
   "execution_count": 13,
   "metadata": {},
   "outputs": [
    {
     "data": {
      "text/plain": [
       "0    538236\n",
       "1     46518\n",
       "Name: target, dtype: int64"
      ]
     },
     "execution_count": 13,
     "metadata": {},
     "output_type": "execute_result"
    }
   ],
   "source": [
    "df_data.target.value_counts()"
   ]
  },
  {
   "cell_type": "code",
   "execution_count": 14,
   "metadata": {},
   "outputs": [
    {
     "data": {
      "text/plain": [
       "<matplotlib.axes._subplots.AxesSubplot at 0x7f6b3e5df5f8>"
      ]
     },
     "execution_count": 14,
     "metadata": {},
     "output_type": "execute_result"
    },
    {
     "data": {
      "image/png": "[encoded data removed]",
      "text/plain": [
       "<Figure size 576x576 with 1 Axes>"
      ]
     },
     "metadata": {},
     "output_type": "display_data"
    }
   ],
   "source": [
    "plt.figure(figsize=(8,8))\n",
    "sns.countplot(x='target', data=df_data)"
   ]
  },
  {
   "cell_type": "markdown",
   "metadata": {},
   "source": [
    "Con el fin de agilizar el procesamiento para los gráficos, se toma una muestra representativa del dataset"
   ]
  },
  {
   "cell_type": "code",
   "execution_count": 15,
   "metadata": {},
   "outputs": [
    {
     "data": {
      "text/plain": [
       "(58475, 15)"
      ]
     },
     "execution_count": 15,
     "metadata": {},
     "output_type": "execute_result"
    }
   ],
   "source": [
    "df_sample = df_data.sample(frac=0.1)\n",
    "df_sample.shape"
   ]
  },
  {
   "cell_type": "markdown",
   "metadata": {},
   "source": [
    "### Variables numéricas\n",
    "\n",
    "En base al diccionario de datos, podemos clasificar a las siguiente variables como numéricas:\n",
    "\n",
    "* **total_events_on_iOS**: registro de la cantidad de eventos que tuvo el trial por un dispositivo con sistema operativo Android\n",
    "* **total_events_on_Web**: registro de la cantidad de eventos que tuvo el trial por una computadora\n",
    "* **total_events_on_Android**: registro de la cantidad de eventos que tuvo el trial por un dispositivo con sistema operativo iOS\n",
    "* **admin_visits**: cantidad de visitas que registró el administrador \n",
    "* **intercom_conversations**: cantidad de conversaciones que registró la tienda con el equipo de soporte\n",
    "* **products_with_description**: cantidad de productos que poseen descripción \n",
    "* **total_products_with_images**: cantidad de productos que poseen imagen\n",
    "* **total_product_categories**: cantidad de categorías de productos creadas"
   ]
  },
  {
   "cell_type": "markdown",
   "metadata": {},
   "source": [
    "**Distribución de las variables tomadas de a pares**\n",
    "\n",
    "A continuación se analiza como se distribuyen las variables numéricas, tomándolas de a pares."
   ]
  },
  {
   "cell_type": "markdown",
   "metadata": {},
   "source": [
    "Primero se analizó qué tipo de relación había entre los eventos registrados por los diversos tipos de dispositivos. Para ello se observaron las siguiente variables:\n",
    "\n",
    "* **total_events_on_iOS**\n",
    "* **total_events_on_Web**\n",
    "* **total_events_on_Android**\n",
    "\n",
    "Como podemos observar en el gráfico, los usuarios realizan acciones de manera combinada tanto de un dispositivo móvil (Android o iOS) como desde la Web. \n",
    "\n",
    "También resulta interesante observar la distribución dividida por clases para cada dispositivo: en el caso de los usuarios que usaron iOS o Web podemos observar la curva de la clase positiva posee un desvío a la derecha; y además, un pico \"más alto\" respecto de la clase negativa. Esto puede ser un indicio de la importancia que estas variables tendrán para el **clasificador**"
   ]
  },
  {
   "cell_type": "code",
   "execution_count": 16,
   "metadata": {},
   "outputs": [
    {
     "data": {
      "text/plain": [
       "<matplotlib.axes._subplots.AxesSubplot at 0x7f6b3e60f4e0>"
      ]
     },
     "execution_count": 16,
     "metadata": {},
     "output_type": "execute_result"
    },
    {
     "data": {
      "image/png": "[encoded data removed]",
      "text/plain": [
       "<Figure size 864x864 with 1 Axes>"
      ]
     },
     "metadata": {},
     "output_type": "display_data"
    }
   ],
   "source": [
    "plt.figure(figsize=(12,12))\n",
    "\n",
    "df_sample['total_events_on_Web'].hist(bins=30)"
   ]
  },
  {
   "cell_type": "code",
   "execution_count": null,
   "metadata": {},
   "outputs": [],
   "source": [
    "plt.figure(figsize=(12,12))\n",
    "\n",
    "sns.pairplot(df_sample[['total_events_on_iOS', 'total_events_on_Web', 'total_events_on_Android', 'target']], plot_kws={'alpha': 0.3}, hue='target')"
   ]
  },
  {
   "cell_type": "markdown",
   "metadata": {},
   "source": [
    "Dado que se tratan de distribuciones con desvíos a la derecha se realiza una transformación logartimica para obtener una distribución que se acerque más a la estandar"
   ]
  },
  {
   "cell_type": "code",
   "execution_count": null,
   "metadata": {},
   "outputs": [],
   "source": [
    "df_sample['total_events_on_iOS'] = np.log((1+ df_sample['total_events_on_iOS']))\n",
    "df_sample['total_events_on_Web'] = np.log((1+ df_sample['total_events_on_Web']))\n",
    "df_sample['total_events_on_Android'] = np.log((1+ df_sample['total_events_on_Android']))"
   ]
  },
  {
   "cell_type": "code",
   "execution_count": null,
   "metadata": {},
   "outputs": [],
   "source": [
    "plt.figure(figsize=(12,12))\n",
    "\n",
    "sns.pairplot(df_sample[['total_events_on_iOS', 'total_events_on_Web', 'total_events_on_Android', 'target']], plot_kws={'alpha': 0.3}, hue='target')"
   ]
  },
  {
   "cell_type": "markdown",
   "metadata": {},
   "source": [
    "Aquí se muestran las relaciones entre las variables que se corresponden con los eventos registrados con un tipo de dispositivo y las siguientes variables:\n",
    "\n",
    "* **admin_visits**\n",
    "* **intercom_conversations**\n",
    "* **products_with_description** \n",
    "* **total_products_with_images**\n",
    "* **total_product_categories**\n",
    "\n",
    "En este resulta interesante observar los picos de las curvas para las diferentes variables. Al igual que las anteriores, la mayoría de las variables muestran curvas con desvíos a la derecha, mostrando la curva de la clase positiva un pico \"más alto\". La única variable que difiere es la variable **admin_visits** que muestra dos picos y, a diferencia de las otras, los picos \"más altos\" corresponden a la clase negativa.\n",
    "\n",
    "En cuanto a las relaciones entre las variable, a priori no se observa una relación que muestre una separación de las clases."
   ]
  },
  {
   "cell_type": "code",
   "execution_count": null,
   "metadata": {},
   "outputs": [],
   "source": [
    "plt.figure(figsize=(12,12))\n",
    "\n",
    "sns.pairplot(df_sample[['admin_visits', 'intercom_conversations','products_with_description', 'total_products_with_images', 'total_product_categories', 'total_events_on_Android', 'target']], plot_kws={'alpha': 0.3}, hue='target')"
   ]
  },
  {
   "cell_type": "code",
   "execution_count": null,
   "metadata": {},
   "outputs": [],
   "source": [
    "df_sample['products_with_description'] = np.log((1+ df_sample['products_with_description']))\n",
    "df_sample['total_product_categories'] = np.log((1+ df_sample['total_product_categories']))\n",
    "df_sample['total_products_with_images'] = np.log((1+ df_sample['total_products_with_images']))"
   ]
  },
  {
   "cell_type": "code",
   "execution_count": null,
   "metadata": {},
   "outputs": [],
   "source": [
    "plt.figure(figsize=(12,12))\n",
    "\n",
    "sns.pairplot(df_sample[['admin_visits', 'intercom_conversations','products_with_description', 'total_products_with_images', 'total_product_categories', 'total_events_on_Web', 'target']], plot_kws={'alpha': 0.3}, hue='target')"
   ]
  },
  {
   "cell_type": "code",
   "execution_count": null,
   "metadata": {},
   "outputs": [],
   "source": [
    "plt.figure(figsize=(12,12))\n",
    "\n",
    "sns.pairplot(df_sample[['admin_visits', 'intercom_conversations','products_with_description', 'total_products_with_images', 'total_product_categories', 'total_events_on_iOS', 'target']], plot_kws={'alpha': 0.3}, hue='target')"
   ]
  },
  {
   "cell_type": "markdown",
   "metadata": {},
   "source": [
    "### Variables categoricas"
   ]
  },
  {
   "cell_type": "markdown",
   "metadata": {},
   "source": [
    "Posteriormente se analizaron las distribuciones de las variables categóricas:\n",
    "\n",
    "* **country**: país de origen del trial\n",
    "* **creation_platform**: plataforma por la cual se creó la tienda \n",
    "* **source_pulido**: origen de la tienda por campaña de marketing\n",
    "* **creation_weekday**: día de la semana en que se creó la tienda\n",
    "\n",
    "Para un análisis más claro se discriminan las distribuciones de acuerdo a las clases. Aquí resulta interesante observar que si bien en Brasil el producto es mucho más utilizado, la relación entre los usuarios que pasan a ser *payment* y los que no lo hacen es \"peor\" que en Argentina, donde la cantidad de usuarios que pasaron a ser *payment* es similar a la de Brasil. \n",
    "\n",
    "También hay que destacar que la variable **creation_platform** muestra que la mayor cantidad de clase *payment* se da entre aquellos usuarios que los crearon a través del *desktop*.\n",
    "\n",
    "Finalmente, en la variable **source_pulido** las categorías *Brand* y *Google Organic* ofrecen la \"mejor\" relación entre las clases; mientras que la variable **creation_weekday** parece mostrar una relación uniforme entre las clases, en otras palabras el día creación parecería no ser un factor a que ayude a predecir si el usuario se pasará a *payment* o no."
   ]
  },
  {
   "cell_type": "code",
   "execution_count": null,
   "metadata": {},
   "outputs": [],
   "source": [
    "plt.figure(figsize=(8,8))\n",
    "sns.countplot(x='country', hue='target', data=df_sample)"
   ]
  },
  {
   "cell_type": "code",
   "execution_count": null,
   "metadata": {},
   "outputs": [],
   "source": [
    "plt.figure(figsize=(8,8))\n",
    "sns.countplot(x='creation_platform', hue= 'target', data=df_sample)"
   ]
  },
  {
   "cell_type": "code",
   "execution_count": null,
   "metadata": {},
   "outputs": [],
   "source": [
    "plt.figure(figsize=(8,8))\n",
    "ax = sns.countplot(x='source_pulido', hue= 'target', data=df_sample)\n",
    "ax.set_xticklabels(df_sample['source_pulido'].unique() ,rotation=80, fontsize=14)"
   ]
  },
  {
   "cell_type": "code",
   "execution_count": null,
   "metadata": {},
   "outputs": [],
   "source": [
    "plt.figure(figsize=(8,8))\n",
    "sns.countplot(x='creation_weekday', hue= 'target', data=df_sample)"
   ]
  },
  {
   "cell_type": "code",
   "execution_count": null,
   "metadata": {},
   "outputs": [],
   "source": [
    "plt.figure(figsize=(8,8))\n",
    "sns.catplot(x='country', hue='creation_platform', col='target', data=df_sample, kind=\"count\")"
   ]
  },
  {
   "cell_type": "markdown",
   "metadata": {},
   "source": [
    "### Segmentación de los eventos de acuerdo a los cuartiles"
   ]
  },
  {
   "cell_type": "code",
   "execution_count": 18,
   "metadata": {},
   "outputs": [
    {
     "data": {
      "text/plain": [
       "0.00       0.0\n",
       "0.25      11.0\n",
       "0.50      27.0\n",
       "0.75      70.0\n",
       "1.00    1070.0\n",
       "Name: total_events_on_Web, dtype: float64"
      ]
     },
     "execution_count": 18,
     "metadata": {},
     "output_type": "execute_result"
    }
   ],
   "source": [
    "quantile_list = [0, .25, .5, .75, 1.]\n",
    "quantiles = df_sample['total_events_on_Web'].quantile(quantile_list)\n",
    "quantiles"
   ]
  },
  {
   "cell_type": "code",
   "execution_count": 19,
   "metadata": {},
   "outputs": [
    {
     "data": {
      "text/html": [
       "<div>\n",
       "<style scoped>\n",
       "    .dataframe tbody tr th:only-of-type {\n",
       "        vertical-align: middle;\n",
       "    }\n",
       "\n",
       "    .dataframe tbody tr th {\n",
       "        vertical-align: top;\n",
       "    }\n",
       "\n",
       "    .dataframe thead th {\n",
       "        text-align: right;\n",
       "    }\n",
       "</style>\n",
       "<table border=\"1\" class=\"dataframe\">\n",
       "  <thead>\n",
       "    <tr style=\"text-align: right;\">\n",
       "      <th></th>\n",
       "      <th>id</th>\n",
       "      <th>country</th>\n",
       "      <th>creation_platform</th>\n",
       "      <th>admin_visits</th>\n",
       "      <th>intercom_conversations</th>\n",
       "      <th>source_pulido</th>\n",
       "      <th>creation_weekday</th>\n",
       "      <th>creation_hour</th>\n",
       "      <th>products_with_description</th>\n",
       "      <th>total_products_with_images</th>\n",
       "      <th>total_product_categories</th>\n",
       "      <th>total_events_on_Android</th>\n",
       "      <th>total_events_on_Web</th>\n",
       "      <th>total_events_on_iOS</th>\n",
       "      <th>target</th>\n",
       "      <th>total_events_on_Web_qrange</th>\n",
       "      <th>total_events_on_Web_qlabel</th>\n",
       "    </tr>\n",
       "  </thead>\n",
       "  <tbody>\n",
       "    <tr>\n",
       "      <th>352075</th>\n",
       "      <td>944865</td>\n",
       "      <td>BR</td>\n",
       "      <td>mobile_app</td>\n",
       "      <td>1.0</td>\n",
       "      <td>0.0</td>\n",
       "      <td>Other</td>\n",
       "      <td>6</td>\n",
       "      <td>11</td>\n",
       "      <td>0.0</td>\n",
       "      <td>0</td>\n",
       "      <td>0.0</td>\n",
       "      <td>0.0</td>\n",
       "      <td>0.0</td>\n",
       "      <td>0.0</td>\n",
       "      <td>0</td>\n",
       "      <td>(-0.001, 11.0]</td>\n",
       "      <td>0-25Q</td>\n",
       "    </tr>\n",
       "    <tr>\n",
       "      <th>22625</th>\n",
       "      <td>611816</td>\n",
       "      <td>AR</td>\n",
       "      <td>mobile_app</td>\n",
       "      <td>1.0</td>\n",
       "      <td>0.0</td>\n",
       "      <td>Other</td>\n",
       "      <td>6</td>\n",
       "      <td>13</td>\n",
       "      <td>0.0</td>\n",
       "      <td>0</td>\n",
       "      <td>0.0</td>\n",
       "      <td>7.0</td>\n",
       "      <td>1.0</td>\n",
       "      <td>0.0</td>\n",
       "      <td>0</td>\n",
       "      <td>(-0.001, 11.0]</td>\n",
       "      <td>0-25Q</td>\n",
       "    </tr>\n",
       "    <tr>\n",
       "      <th>386505</th>\n",
       "      <td>979697</td>\n",
       "      <td>BR</td>\n",
       "      <td>desktop</td>\n",
       "      <td>1.0</td>\n",
       "      <td>0.0</td>\n",
       "      <td>Direct</td>\n",
       "      <td>3</td>\n",
       "      <td>0</td>\n",
       "      <td>0.0</td>\n",
       "      <td>3</td>\n",
       "      <td>1.0</td>\n",
       "      <td>0.0</td>\n",
       "      <td>233.0</td>\n",
       "      <td>0.0</td>\n",
       "      <td>0</td>\n",
       "      <td>(70.0, 1070.0]</td>\n",
       "      <td>75-100Q</td>\n",
       "    </tr>\n",
       "    <tr>\n",
       "      <th>33786</th>\n",
       "      <td>623071</td>\n",
       "      <td>AR</td>\n",
       "      <td>desktop</td>\n",
       "      <td>1.0</td>\n",
       "      <td>0.0</td>\n",
       "      <td>Facebook CPC</td>\n",
       "      <td>6</td>\n",
       "      <td>14</td>\n",
       "      <td>0.0</td>\n",
       "      <td>0</td>\n",
       "      <td>0.0</td>\n",
       "      <td>0.0</td>\n",
       "      <td>24.0</td>\n",
       "      <td>0.0</td>\n",
       "      <td>0</td>\n",
       "      <td>(11.0, 27.0]</td>\n",
       "      <td>25-50Q</td>\n",
       "    </tr>\n",
       "    <tr>\n",
       "      <th>296200</th>\n",
       "      <td>888365</td>\n",
       "      <td>BR</td>\n",
       "      <td>mobile_web</td>\n",
       "      <td>1.0</td>\n",
       "      <td>0.0</td>\n",
       "      <td>Google CPC no Brand</td>\n",
       "      <td>2</td>\n",
       "      <td>3</td>\n",
       "      <td>0.0</td>\n",
       "      <td>0</td>\n",
       "      <td>0.0</td>\n",
       "      <td>0.0</td>\n",
       "      <td>7.0</td>\n",
       "      <td>0.0</td>\n",
       "      <td>0</td>\n",
       "      <td>(-0.001, 11.0]</td>\n",
       "      <td>0-25Q</td>\n",
       "    </tr>\n",
       "  </tbody>\n",
       "</table>\n",
       "</div>"
      ],
      "text/plain": [
       "            id country creation_platform  admin_visits  \\\n",
       "352075  944865      BR        mobile_app           1.0   \n",
       "22625   611816      AR        mobile_app           1.0   \n",
       "386505  979697      BR           desktop           1.0   \n",
       "33786   623071      AR           desktop           1.0   \n",
       "296200  888365      BR        mobile_web           1.0   \n",
       "\n",
       "        intercom_conversations        source_pulido  creation_weekday  \\\n",
       "352075                     0.0                Other                 6   \n",
       "22625                      0.0                Other                 6   \n",
       "386505                     0.0               Direct                 3   \n",
       "33786                      0.0         Facebook CPC                 6   \n",
       "296200                     0.0  Google CPC no Brand                 2   \n",
       "\n",
       "        creation_hour  products_with_description  total_products_with_images  \\\n",
       "352075             11                        0.0                           0   \n",
       "22625              13                        0.0                           0   \n",
       "386505              0                        0.0                           3   \n",
       "33786              14                        0.0                           0   \n",
       "296200              3                        0.0                           0   \n",
       "\n",
       "        total_product_categories  total_events_on_Android  \\\n",
       "352075                       0.0                      0.0   \n",
       "22625                        0.0                      7.0   \n",
       "386505                       1.0                      0.0   \n",
       "33786                        0.0                      0.0   \n",
       "296200                       0.0                      0.0   \n",
       "\n",
       "        total_events_on_Web  total_events_on_iOS  target  \\\n",
       "352075                  0.0                  0.0       0   \n",
       "22625                   1.0                  0.0       0   \n",
       "386505                233.0                  0.0       0   \n",
       "33786                  24.0                  0.0       0   \n",
       "296200                  7.0                  0.0       0   \n",
       "\n",
       "       total_events_on_Web_qrange total_events_on_Web_qlabel  \n",
       "352075             (-0.001, 11.0]                      0-25Q  \n",
       "22625              (-0.001, 11.0]                      0-25Q  \n",
       "386505             (70.0, 1070.0]                    75-100Q  \n",
       "33786                (11.0, 27.0]                     25-50Q  \n",
       "296200             (-0.001, 11.0]                      0-25Q  "
      ]
     },
     "execution_count": 19,
     "metadata": {},
     "output_type": "execute_result"
    }
   ],
   "source": [
    "quantile_labels = ['0-25Q', '25-50Q', '50-75Q', '75-100Q']\n",
    "df_sample['total_events_on_Web_qrange'] = pd.qcut(df_sample['total_events_on_Web'], q=quantile_list)\n",
    "df_sample['total_events_on_Web_qlabel'] = pd.qcut(df_sample['total_events_on_Web'], q=quantile_list, labels=quantile_labels)\n",
    "\n",
    "df_sample.head()"
   ]
  },
  {
   "cell_type": "code",
   "execution_count": 20,
   "metadata": {},
   "outputs": [
    {
     "data": {
      "text/plain": [
       "<matplotlib.axes._subplots.AxesSubplot at 0x7f6b3c5105c0>"
      ]
     },
     "execution_count": 20,
     "metadata": {},
     "output_type": "execute_result"
    },
    {
     "data": {
      "image/png": "[encoded data removed]",
      "text/plain": [
       "<Figure size 576x576 with 1 Axes>"
      ]
     },
     "metadata": {},
     "output_type": "display_data"
    }
   ],
   "source": [
    "plt.figure(figsize=(8,8))\n",
    "sns.countplot(x='total_events_on_Web_qlabel', hue= 'target', data=df_sample)"
   ]
  }
 ],
 "metadata": {
  "kernelspec": {
   "display_name": "Python 3",
   "language": "python",
   "name": "python3"
  },
  "language_info": {
   "codemirror_mode": {
    "name": "ipython",
    "version": 3
   },
   "file_extension": ".py",
   "mimetype": "text/x-python",
   "name": "python",
   "nbconvert_exporter": "python",
   "pygments_lexer": "ipython3",
   "version": "3.5.2"
  }
 },
 "nbformat": 4,
 "nbformat_minor": 2
}
